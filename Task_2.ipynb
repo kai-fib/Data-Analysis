{
  "nbformat": 4,
  "nbformat_minor": 0,
  "metadata": {
    "colab": {
      "name": "Task 2.ipynb",
      "provenance": [],
      "collapsed_sections": []
    },
    "kernelspec": {
      "name": "python3",
      "display_name": "Python 3"
    },
    "language_info": {
      "name": "python"
    }
  },
  "cells": [
    {
      "cell_type": "markdown",
      "source": [
        "**TASK 2**\n",
        "1. Read the csv or excel file. \n",
        "2. Change the datatypes of the column and check the memory usage before and after the change in the data types.\n",
        "3. Dump the data into the mysql database.\n",
        "4. index the column after the data is inserted.\n",
        "\n",
        "Note: Please make a note we are dumping the data everyday so first delete the indexing from the table and then insert the data.\n"
      ],
      "metadata": {
        "id": "im1bD2is0OuL"
      }
    },
    {
      "cell_type": "code",
      "execution_count": 1,
      "metadata": {
        "id": "AI3_thWOWtNl"
      },
      "outputs": [],
      "source": [
        "import pandas as pd #pandas for data analysis\n",
        "import sqlite3 #sqlite for writing sql queries\n",
        "import logging"
      ]
    },
    {
      "cell_type": "markdown",
      "source": [
        "**1. Reading the csv or excel file.**"
      ],
      "metadata": {
        "id": "jRRra4Xe01YI"
      }
    },
    {
      "cell_type": "code",
      "source": [
        "df = pd.read_csv('/content/used_bikes.csv')"
      ],
      "metadata": {
        "id": "iRZ3pCa9W6ez"
      },
      "execution_count": 2,
      "outputs": []
    },
    {
      "cell_type": "code",
      "source": [
        "df"
      ],
      "metadata": {
        "colab": {
          "base_uri": "https://localhost:8080/",
          "height": 467
        },
        "id": "-12YxTSSX66i",
        "outputId": "676f5c74-84ee-4dda-a8c5-09b0322321a9"
      },
      "execution_count": 3,
      "outputs": [
        {
          "output_type": "execute_result",
          "data": {
            "text/html": [
              "\n",
              "  <div id=\"df-cb609d01-8241-418b-bfc2-bf213e4edb70\">\n",
              "    <div class=\"colab-df-container\">\n",
              "      <div>\n",
              "<style scoped>\n",
              "    .dataframe tbody tr th:only-of-type {\n",
              "        vertical-align: middle;\n",
              "    }\n",
              "\n",
              "    .dataframe tbody tr th {\n",
              "        vertical-align: top;\n",
              "    }\n",
              "\n",
              "    .dataframe thead th {\n",
              "        text-align: right;\n",
              "    }\n",
              "</style>\n",
              "<table border=\"1\" class=\"dataframe\">\n",
              "  <thead>\n",
              "    <tr style=\"text-align: right;\">\n",
              "      <th></th>\n",
              "      <th>bike_name</th>\n",
              "      <th>price</th>\n",
              "      <th>city</th>\n",
              "      <th>kms_driven</th>\n",
              "      <th>owner</th>\n",
              "      <th>age</th>\n",
              "      <th>power</th>\n",
              "      <th>brand</th>\n",
              "    </tr>\n",
              "  </thead>\n",
              "  <tbody>\n",
              "    <tr>\n",
              "      <th>0</th>\n",
              "      <td>TVS Star City Plus Dual Tone 110cc</td>\n",
              "      <td>35000</td>\n",
              "      <td>Ahmedabad</td>\n",
              "      <td>17654</td>\n",
              "      <td>First Owner</td>\n",
              "      <td>3</td>\n",
              "      <td>110</td>\n",
              "      <td>TVS</td>\n",
              "    </tr>\n",
              "    <tr>\n",
              "      <th>1</th>\n",
              "      <td>Royal Enfield Classic 350cc</td>\n",
              "      <td>119900</td>\n",
              "      <td>Delhi</td>\n",
              "      <td>11000</td>\n",
              "      <td>First Owner</td>\n",
              "      <td>4</td>\n",
              "      <td>350</td>\n",
              "      <td>Royal Enfield</td>\n",
              "    </tr>\n",
              "    <tr>\n",
              "      <th>2</th>\n",
              "      <td>Triumph Daytona 675R</td>\n",
              "      <td>600000</td>\n",
              "      <td>Delhi</td>\n",
              "      <td>110</td>\n",
              "      <td>First Owner</td>\n",
              "      <td>8</td>\n",
              "      <td>675</td>\n",
              "      <td>Triumph</td>\n",
              "    </tr>\n",
              "    <tr>\n",
              "      <th>3</th>\n",
              "      <td>TVS Apache RTR 180cc</td>\n",
              "      <td>65000</td>\n",
              "      <td>Bangalore</td>\n",
              "      <td>16329</td>\n",
              "      <td>First Owner</td>\n",
              "      <td>4</td>\n",
              "      <td>180</td>\n",
              "      <td>TVS</td>\n",
              "    </tr>\n",
              "    <tr>\n",
              "      <th>4</th>\n",
              "      <td>Yamaha FZ S V 2.0 150cc-Ltd. Edition</td>\n",
              "      <td>80000</td>\n",
              "      <td>Bangalore</td>\n",
              "      <td>10000</td>\n",
              "      <td>First Owner</td>\n",
              "      <td>3</td>\n",
              "      <td>150</td>\n",
              "      <td>Yamaha</td>\n",
              "    </tr>\n",
              "    <tr>\n",
              "      <th>...</th>\n",
              "      <td>...</td>\n",
              "      <td>...</td>\n",
              "      <td>...</td>\n",
              "      <td>...</td>\n",
              "      <td>...</td>\n",
              "      <td>...</td>\n",
              "      <td>...</td>\n",
              "      <td>...</td>\n",
              "    </tr>\n",
              "    <tr>\n",
              "      <th>144</th>\n",
              "      <td>Royal Enfield Standard 350cc</td>\n",
              "      <td>115000</td>\n",
              "      <td>Hyderabad</td>\n",
              "      <td>14900</td>\n",
              "      <td>First Owner</td>\n",
              "      <td>3</td>\n",
              "      <td>350</td>\n",
              "      <td>Royal Enfield</td>\n",
              "    </tr>\n",
              "    <tr>\n",
              "      <th>145</th>\n",
              "      <td>Honda CB Shine 125cc Disc</td>\n",
              "      <td>65000</td>\n",
              "      <td>Mumbai</td>\n",
              "      <td>2000</td>\n",
              "      <td>First Owner</td>\n",
              "      <td>3</td>\n",
              "      <td>125</td>\n",
              "      <td>Honda</td>\n",
              "    </tr>\n",
              "    <tr>\n",
              "      <th>146</th>\n",
              "      <td>Honda CB Unicorn ABS 150cc</td>\n",
              "      <td>99000</td>\n",
              "      <td>Mumbai</td>\n",
              "      <td>4000</td>\n",
              "      <td>First Owner</td>\n",
              "      <td>2</td>\n",
              "      <td>150</td>\n",
              "      <td>Honda</td>\n",
              "    </tr>\n",
              "    <tr>\n",
              "      <th>147</th>\n",
              "      <td>Yamaha YZF-R15 2.0 150cc</td>\n",
              "      <td>68500</td>\n",
              "      <td>Delhi</td>\n",
              "      <td>68500</td>\n",
              "      <td>Second Owner</td>\n",
              "      <td>7</td>\n",
              "      <td>150</td>\n",
              "      <td>Yamaha</td>\n",
              "    </tr>\n",
              "    <tr>\n",
              "      <th>148</th>\n",
              "      <td>Yamaha YZF-R15 V3 150cc</td>\n",
              "      <td>140000</td>\n",
              "      <td>Delhi</td>\n",
              "      <td>2473</td>\n",
              "      <td>First Owner</td>\n",
              "      <td>2</td>\n",
              "      <td>150</td>\n",
              "      <td>Yamaha</td>\n",
              "    </tr>\n",
              "  </tbody>\n",
              "</table>\n",
              "<p>149 rows × 8 columns</p>\n",
              "</div>\n",
              "      <button class=\"colab-df-convert\" onclick=\"convertToInteractive('df-cb609d01-8241-418b-bfc2-bf213e4edb70')\"\n",
              "              title=\"Convert this dataframe to an interactive table.\"\n",
              "              style=\"display:none;\">\n",
              "        \n",
              "  <svg xmlns=\"http://www.w3.org/2000/svg\" height=\"24px\"viewBox=\"0 0 24 24\"\n",
              "       width=\"24px\">\n",
              "    <path d=\"M0 0h24v24H0V0z\" fill=\"none\"/>\n",
              "    <path d=\"M18.56 5.44l.94 2.06.94-2.06 2.06-.94-2.06-.94-.94-2.06-.94 2.06-2.06.94zm-11 1L8.5 8.5l.94-2.06 2.06-.94-2.06-.94L8.5 2.5l-.94 2.06-2.06.94zm10 10l.94 2.06.94-2.06 2.06-.94-2.06-.94-.94-2.06-.94 2.06-2.06.94z\"/><path d=\"M17.41 7.96l-1.37-1.37c-.4-.4-.92-.59-1.43-.59-.52 0-1.04.2-1.43.59L10.3 9.45l-7.72 7.72c-.78.78-.78 2.05 0 2.83L4 21.41c.39.39.9.59 1.41.59.51 0 1.02-.2 1.41-.59l7.78-7.78 2.81-2.81c.8-.78.8-2.07 0-2.86zM5.41 20L4 18.59l7.72-7.72 1.47 1.35L5.41 20z\"/>\n",
              "  </svg>\n",
              "      </button>\n",
              "      \n",
              "  <style>\n",
              "    .colab-df-container {\n",
              "      display:flex;\n",
              "      flex-wrap:wrap;\n",
              "      gap: 12px;\n",
              "    }\n",
              "\n",
              "    .colab-df-convert {\n",
              "      background-color: #E8F0FE;\n",
              "      border: none;\n",
              "      border-radius: 50%;\n",
              "      cursor: pointer;\n",
              "      display: none;\n",
              "      fill: #1967D2;\n",
              "      height: 32px;\n",
              "      padding: 0 0 0 0;\n",
              "      width: 32px;\n",
              "    }\n",
              "\n",
              "    .colab-df-convert:hover {\n",
              "      background-color: #E2EBFA;\n",
              "      box-shadow: 0px 1px 2px rgba(60, 64, 67, 0.3), 0px 1px 3px 1px rgba(60, 64, 67, 0.15);\n",
              "      fill: #174EA6;\n",
              "    }\n",
              "\n",
              "    [theme=dark] .colab-df-convert {\n",
              "      background-color: #3B4455;\n",
              "      fill: #D2E3FC;\n",
              "    }\n",
              "\n",
              "    [theme=dark] .colab-df-convert:hover {\n",
              "      background-color: #434B5C;\n",
              "      box-shadow: 0px 1px 3px 1px rgba(0, 0, 0, 0.15);\n",
              "      filter: drop-shadow(0px 1px 2px rgba(0, 0, 0, 0.3));\n",
              "      fill: #FFFFFF;\n",
              "    }\n",
              "  </style>\n",
              "\n",
              "      <script>\n",
              "        const buttonEl =\n",
              "          document.querySelector('#df-cb609d01-8241-418b-bfc2-bf213e4edb70 button.colab-df-convert');\n",
              "        buttonEl.style.display =\n",
              "          google.colab.kernel.accessAllowed ? 'block' : 'none';\n",
              "\n",
              "        async function convertToInteractive(key) {\n",
              "          const element = document.querySelector('#df-cb609d01-8241-418b-bfc2-bf213e4edb70');\n",
              "          const dataTable =\n",
              "            await google.colab.kernel.invokeFunction('convertToInteractive',\n",
              "                                                     [key], {});\n",
              "          if (!dataTable) return;\n",
              "\n",
              "          const docLinkHtml = 'Like what you see? Visit the ' +\n",
              "            '<a target=\"_blank\" href=https://colab.research.google.com/notebooks/data_table.ipynb>data table notebook</a>'\n",
              "            + ' to learn more about interactive tables.';\n",
              "          element.innerHTML = '';\n",
              "          dataTable['output_type'] = 'display_data';\n",
              "          await google.colab.output.renderOutput(dataTable, element);\n",
              "          const docLink = document.createElement('div');\n",
              "          docLink.innerHTML = docLinkHtml;\n",
              "          element.appendChild(docLink);\n",
              "        }\n",
              "      </script>\n",
              "    </div>\n",
              "  </div>\n",
              "  "
            ],
            "text/plain": [
              "                                bike_name   price  ... power          brand\n",
              "0      TVS Star City Plus Dual Tone 110cc   35000  ...   110            TVS\n",
              "1             Royal Enfield Classic 350cc  119900  ...   350  Royal Enfield\n",
              "2                    Triumph Daytona 675R  600000  ...   675        Triumph\n",
              "3                    TVS Apache RTR 180cc   65000  ...   180            TVS\n",
              "4    Yamaha FZ S V 2.0 150cc-Ltd. Edition   80000  ...   150         Yamaha\n",
              "..                                    ...     ...  ...   ...            ...\n",
              "144          Royal Enfield Standard 350cc  115000  ...   350  Royal Enfield\n",
              "145             Honda CB Shine 125cc Disc   65000  ...   125          Honda\n",
              "146            Honda CB Unicorn ABS 150cc   99000  ...   150          Honda\n",
              "147              Yamaha YZF-R15 2.0 150cc   68500  ...   150         Yamaha\n",
              "148               Yamaha YZF-R15 V3 150cc  140000  ...   150         Yamaha\n",
              "\n",
              "[149 rows x 8 columns]"
            ]
          },
          "metadata": {},
          "execution_count": 3
        }
      ]
    },
    {
      "cell_type": "markdown",
      "source": [
        "**2. Changing the datatypes of the column and checking the memory usage before and after the change in the data types.**"
      ],
      "metadata": {
        "id": "nmpqnAMn1FG3"
      }
    },
    {
      "cell_type": "code",
      "source": [
        "#checking memory usage before changing the datatype of price from int32 to int64\n",
        "df.memory_usage()"
      ],
      "metadata": {
        "colab": {
          "base_uri": "https://localhost:8080/"
        },
        "id": "pufeIOq4YhRz",
        "outputId": "69dc8b5a-2263-4d70-92e8-998da656217c"
      },
      "execution_count": 4,
      "outputs": [
        {
          "output_type": "execute_result",
          "data": {
            "text/plain": [
              "Index          128\n",
              "bike_name     1192\n",
              "price         1192\n",
              "city          1192\n",
              "kms_driven    1192\n",
              "owner         1192\n",
              "age           1192\n",
              "power         1192\n",
              "brand         1192\n",
              "dtype: int64"
            ]
          },
          "metadata": {},
          "execution_count": 4
        }
      ]
    },
    {
      "cell_type": "code",
      "source": [
        "#total sum of memory usage\n",
        "df.memory_usage().sum()"
      ],
      "metadata": {
        "colab": {
          "base_uri": "https://localhost:8080/"
        },
        "id": "E1J0dsb7Zk3-",
        "outputId": "a77ab934-4c90-4e9d-d113-10f8db8c42a4"
      },
      "execution_count": 5,
      "outputs": [
        {
          "output_type": "execute_result",
          "data": {
            "text/plain": [
              "9664"
            ]
          },
          "metadata": {},
          "execution_count": 5
        }
      ]
    },
    {
      "cell_type": "code",
      "source": [
        "#changing datatype of Price from int64 to int32\n",
        "df = df.astype(\"int32\",errors='ignore')"
      ],
      "metadata": {
        "id": "t_OEYTFYaPIM"
      },
      "execution_count": 6,
      "outputs": []
    },
    {
      "cell_type": "code",
      "source": [
        "#checking memory usage\n",
        "df.memory_usage()"
      ],
      "metadata": {
        "colab": {
          "base_uri": "https://localhost:8080/"
        },
        "id": "S0IQuewwartI",
        "outputId": "c6379e6b-0bf2-4ba6-a118-4570934ce7fd"
      },
      "execution_count": 7,
      "outputs": [
        {
          "output_type": "execute_result",
          "data": {
            "text/plain": [
              "Index          128\n",
              "bike_name     1192\n",
              "price          596\n",
              "city          1192\n",
              "kms_driven     596\n",
              "owner         1192\n",
              "age            596\n",
              "power          596\n",
              "brand         1192\n",
              "dtype: int64"
            ]
          },
          "metadata": {},
          "execution_count": 7
        }
      ]
    },
    {
      "cell_type": "code",
      "source": [
        "#total sum of memory usage\n",
        "df.memory_usage().sum()"
      ],
      "metadata": {
        "colab": {
          "base_uri": "https://localhost:8080/"
        },
        "id": "-La3ARAna6Jj",
        "outputId": "93011c61-c3be-40eb-9aa3-7bc523ffa059"
      },
      "execution_count": 8,
      "outputs": [
        {
          "output_type": "execute_result",
          "data": {
            "text/plain": [
              "7280"
            ]
          },
          "metadata": {},
          "execution_count": 8
        }
      ]
    },
    {
      "cell_type": "markdown",
      "source": [
        "**Dropping the Index**"
      ],
      "metadata": {
        "id": "NNsTVRLUMt0D"
      }
    },
    {
      "cell_type": "code",
      "source": [
        "#droping indexing from the table\n",
        "df.reset_index(drop=True, inplace=True)"
      ],
      "metadata": {
        "id": "9PHbsObaclok"
      },
      "execution_count": 9,
      "outputs": []
    },
    {
      "cell_type": "code",
      "source": [
        "#index is being dropped\n",
        "print(df.head())"
      ],
      "metadata": {
        "colab": {
          "base_uri": "https://localhost:8080/"
        },
        "id": "RoLW5QKrdlzz",
        "outputId": "0bad7b1a-b6a4-4ca8-9263-aa711d59c375"
      },
      "execution_count": 10,
      "outputs": [
        {
          "output_type": "stream",
          "name": "stdout",
          "text": [
            "                              bike_name   price  ... power          brand\n",
            "0    TVS Star City Plus Dual Tone 110cc   35000  ...   110            TVS\n",
            "1           Royal Enfield Classic 350cc  119900  ...   350  Royal Enfield\n",
            "2                  Triumph Daytona 675R  600000  ...   675        Triumph\n",
            "3                  TVS Apache RTR 180cc   65000  ...   180            TVS\n",
            "4  Yamaha FZ S V 2.0 150cc-Ltd. Edition   80000  ...   150         Yamaha\n",
            "\n",
            "[5 rows x 8 columns]\n"
          ]
        }
      ]
    },
    {
      "cell_type": "markdown",
      "source": [
        "**3. Dumping the data into the mysql database.**"
      ],
      "metadata": {
        "id": "6xP8uR5U1SgL"
      }
    },
    {
      "cell_type": "code",
      "source": [
        "#dumping the file in MySQL \n",
        "# defining function to convert pandas dataframe into MySQL\n",
        "def pd_to_sqlDB(input_df: pd.DataFrame,table_name: str,db_name: str = 'default.db') -> None:\n",
        "  \n",
        "    # Settingup local logging\n",
        "    logging.basicConfig(level=logging.INFO,format='%(asctime)s %(levelname)s: %(message)s',\n",
        "                        datefmt='%Y-%m-%d %H:%M:%S')\n",
        "    \n",
        "    # Finding columns in the dataframe\n",
        "    cols = input_df.columns\n",
        "    cols_string = ','.join(cols)\n",
        "    val_wildcard_string = ','.join(['?'] * len(cols))\n",
        "\n",
        "    #Connecting to a DB file if it exists, else crete a new file\n",
        "    con = sqlite3.connect(db_name)\n",
        "    cur = con.cursor()\n",
        "    logging.info(f'SQL DB {db_name} created')\n",
        "\n",
        "    #Creating Table\n",
        "    sql_string = f\"\"\"CREATE TABLE {table_name} ({cols_string});\"\"\"\n",
        "    cur.execute(sql_string)\n",
        "    logging.info(f'SQL Table {table_name} created with {len(cols)} columns')\n",
        "\n",
        "    #Uploading the dataframe\n",
        "    rows_to_upload = input_df.to_dict(orient='split')['data']\n",
        "    sql_string = f\"\"\"INSERT INTO {table_name} ({cols_string}) VALUES ({val_wildcard_string});\"\"\"    \n",
        "    cur.executemany(sql_string, rows_to_upload)\n",
        "    logging.info(f'{len(rows_to_upload)} rows uploaded to {table_name}')\n",
        "\n",
        "    #Commiting the changes and closing the connection\n",
        "    con.commit()\n",
        "    con.close()\n",
        " \n"
      ],
      "metadata": {
        "id": "Jn_shMald6sb"
      },
      "execution_count": 11,
      "outputs": []
    },
    {
      "cell_type": "code",
      "source": [
        "#data dumped to SQL database by converting dataframe to sqlite database\n",
        "pd_to_sqlDB(df,table_name='used_bikes',db_name='data.db')"
      ],
      "metadata": {
        "colab": {
          "base_uri": "https://localhost:8080/"
        },
        "id": "hOWzUUlLoAp0",
        "outputId": "31edeb2c-0275-4cbc-e52f-41f35bd4ec43"
      },
      "execution_count": 12,
      "outputs": [
        {
          "output_type": "stream",
          "name": "stderr",
          "text": [
            "2022-02-05 09:25:09 INFO: SQL DB data.db created\n",
            "2022-02-05 09:25:09 INFO: SQL Table used_bikes created with 8 columns\n",
            "2022-02-05 09:25:09 INFO: 149 rows uploaded to used_bikes\n"
          ]
        }
      ]
    },
    {
      "cell_type": "markdown",
      "source": [
        "**4.indexing the column after the data is inserted.**"
      ],
      "metadata": {
        "id": "F6k62Dy01e--"
      }
    },
    {
      "cell_type": "code",
      "source": [
        "#Function Execute an SQL query and return the results as a pandas dataframe \n",
        "#this function also inserts indexing and returns data in pandas dataframe\n",
        "\n",
        "def sql_query_to_pd(sql_query_string: str, db_name: str ='default.db') -> pd.DataFrame:\n",
        "    # connecting to the SQL DB\n",
        "    con = sqlite3.connect(db_name)\n",
        "    # Executing the SQL query\n",
        "    cursor = con.execute(sql_query_string)\n",
        "    # Fetching the data and column names\n",
        "    result_data = cursor.fetchall()\n",
        "    cols = [description[0] for description in cursor.description]\n",
        "    # Closing the connection\n",
        "    con.close()\n",
        "    # Returning as a dataframe\n",
        "    return pd.DataFrame(result_data, columns=cols)"
      ],
      "metadata": {
        "id": "lgkfZhWcnmCS"
      },
      "execution_count": 13,
      "outputs": []
    },
    {
      "cell_type": "code",
      "source": [
        "sql_query_string = 'SELECT * FROM used_bikes'\n",
        "result_df = sql_query_to_pd(sql_query_string, db_name='data.db')\n",
        "result_df"
      ],
      "metadata": {
        "colab": {
          "base_uri": "https://localhost:8080/",
          "height": 467
        },
        "id": "QadUju38t03E",
        "outputId": "eebab33b-15df-48f3-fd79-01fb35f921c5"
      },
      "execution_count": 14,
      "outputs": [
        {
          "output_type": "execute_result",
          "data": {
            "text/html": [
              "\n",
              "  <div id=\"df-5247dea3-c2ca-4fe8-b5cf-620a7b2bef23\">\n",
              "    <div class=\"colab-df-container\">\n",
              "      <div>\n",
              "<style scoped>\n",
              "    .dataframe tbody tr th:only-of-type {\n",
              "        vertical-align: middle;\n",
              "    }\n",
              "\n",
              "    .dataframe tbody tr th {\n",
              "        vertical-align: top;\n",
              "    }\n",
              "\n",
              "    .dataframe thead th {\n",
              "        text-align: right;\n",
              "    }\n",
              "</style>\n",
              "<table border=\"1\" class=\"dataframe\">\n",
              "  <thead>\n",
              "    <tr style=\"text-align: right;\">\n",
              "      <th></th>\n",
              "      <th>bike_name</th>\n",
              "      <th>price</th>\n",
              "      <th>city</th>\n",
              "      <th>kms_driven</th>\n",
              "      <th>owner</th>\n",
              "      <th>age</th>\n",
              "      <th>power</th>\n",
              "      <th>brand</th>\n",
              "    </tr>\n",
              "  </thead>\n",
              "  <tbody>\n",
              "    <tr>\n",
              "      <th>0</th>\n",
              "      <td>TVS Star City Plus Dual Tone 110cc</td>\n",
              "      <td>35000</td>\n",
              "      <td>Ahmedabad</td>\n",
              "      <td>17654</td>\n",
              "      <td>First Owner</td>\n",
              "      <td>3</td>\n",
              "      <td>110</td>\n",
              "      <td>TVS</td>\n",
              "    </tr>\n",
              "    <tr>\n",
              "      <th>1</th>\n",
              "      <td>Royal Enfield Classic 350cc</td>\n",
              "      <td>119900</td>\n",
              "      <td>Delhi</td>\n",
              "      <td>11000</td>\n",
              "      <td>First Owner</td>\n",
              "      <td>4</td>\n",
              "      <td>350</td>\n",
              "      <td>Royal Enfield</td>\n",
              "    </tr>\n",
              "    <tr>\n",
              "      <th>2</th>\n",
              "      <td>Triumph Daytona 675R</td>\n",
              "      <td>600000</td>\n",
              "      <td>Delhi</td>\n",
              "      <td>110</td>\n",
              "      <td>First Owner</td>\n",
              "      <td>8</td>\n",
              "      <td>675</td>\n",
              "      <td>Triumph</td>\n",
              "    </tr>\n",
              "    <tr>\n",
              "      <th>3</th>\n",
              "      <td>TVS Apache RTR 180cc</td>\n",
              "      <td>65000</td>\n",
              "      <td>Bangalore</td>\n",
              "      <td>16329</td>\n",
              "      <td>First Owner</td>\n",
              "      <td>4</td>\n",
              "      <td>180</td>\n",
              "      <td>TVS</td>\n",
              "    </tr>\n",
              "    <tr>\n",
              "      <th>4</th>\n",
              "      <td>Yamaha FZ S V 2.0 150cc-Ltd. Edition</td>\n",
              "      <td>80000</td>\n",
              "      <td>Bangalore</td>\n",
              "      <td>10000</td>\n",
              "      <td>First Owner</td>\n",
              "      <td>3</td>\n",
              "      <td>150</td>\n",
              "      <td>Yamaha</td>\n",
              "    </tr>\n",
              "    <tr>\n",
              "      <th>...</th>\n",
              "      <td>...</td>\n",
              "      <td>...</td>\n",
              "      <td>...</td>\n",
              "      <td>...</td>\n",
              "      <td>...</td>\n",
              "      <td>...</td>\n",
              "      <td>...</td>\n",
              "      <td>...</td>\n",
              "    </tr>\n",
              "    <tr>\n",
              "      <th>144</th>\n",
              "      <td>Royal Enfield Standard 350cc</td>\n",
              "      <td>115000</td>\n",
              "      <td>Hyderabad</td>\n",
              "      <td>14900</td>\n",
              "      <td>First Owner</td>\n",
              "      <td>3</td>\n",
              "      <td>350</td>\n",
              "      <td>Royal Enfield</td>\n",
              "    </tr>\n",
              "    <tr>\n",
              "      <th>145</th>\n",
              "      <td>Honda CB Shine 125cc Disc</td>\n",
              "      <td>65000</td>\n",
              "      <td>Mumbai</td>\n",
              "      <td>2000</td>\n",
              "      <td>First Owner</td>\n",
              "      <td>3</td>\n",
              "      <td>125</td>\n",
              "      <td>Honda</td>\n",
              "    </tr>\n",
              "    <tr>\n",
              "      <th>146</th>\n",
              "      <td>Honda CB Unicorn ABS 150cc</td>\n",
              "      <td>99000</td>\n",
              "      <td>Mumbai</td>\n",
              "      <td>4000</td>\n",
              "      <td>First Owner</td>\n",
              "      <td>2</td>\n",
              "      <td>150</td>\n",
              "      <td>Honda</td>\n",
              "    </tr>\n",
              "    <tr>\n",
              "      <th>147</th>\n",
              "      <td>Yamaha YZF-R15 2.0 150cc</td>\n",
              "      <td>68500</td>\n",
              "      <td>Delhi</td>\n",
              "      <td>68500</td>\n",
              "      <td>Second Owner</td>\n",
              "      <td>7</td>\n",
              "      <td>150</td>\n",
              "      <td>Yamaha</td>\n",
              "    </tr>\n",
              "    <tr>\n",
              "      <th>148</th>\n",
              "      <td>Yamaha YZF-R15 V3 150cc</td>\n",
              "      <td>140000</td>\n",
              "      <td>Delhi</td>\n",
              "      <td>2473</td>\n",
              "      <td>First Owner</td>\n",
              "      <td>2</td>\n",
              "      <td>150</td>\n",
              "      <td>Yamaha</td>\n",
              "    </tr>\n",
              "  </tbody>\n",
              "</table>\n",
              "<p>149 rows × 8 columns</p>\n",
              "</div>\n",
              "      <button class=\"colab-df-convert\" onclick=\"convertToInteractive('df-5247dea3-c2ca-4fe8-b5cf-620a7b2bef23')\"\n",
              "              title=\"Convert this dataframe to an interactive table.\"\n",
              "              style=\"display:none;\">\n",
              "        \n",
              "  <svg xmlns=\"http://www.w3.org/2000/svg\" height=\"24px\"viewBox=\"0 0 24 24\"\n",
              "       width=\"24px\">\n",
              "    <path d=\"M0 0h24v24H0V0z\" fill=\"none\"/>\n",
              "    <path d=\"M18.56 5.44l.94 2.06.94-2.06 2.06-.94-2.06-.94-.94-2.06-.94 2.06-2.06.94zm-11 1L8.5 8.5l.94-2.06 2.06-.94-2.06-.94L8.5 2.5l-.94 2.06-2.06.94zm10 10l.94 2.06.94-2.06 2.06-.94-2.06-.94-.94-2.06-.94 2.06-2.06.94z\"/><path d=\"M17.41 7.96l-1.37-1.37c-.4-.4-.92-.59-1.43-.59-.52 0-1.04.2-1.43.59L10.3 9.45l-7.72 7.72c-.78.78-.78 2.05 0 2.83L4 21.41c.39.39.9.59 1.41.59.51 0 1.02-.2 1.41-.59l7.78-7.78 2.81-2.81c.8-.78.8-2.07 0-2.86zM5.41 20L4 18.59l7.72-7.72 1.47 1.35L5.41 20z\"/>\n",
              "  </svg>\n",
              "      </button>\n",
              "      \n",
              "  <style>\n",
              "    .colab-df-container {\n",
              "      display:flex;\n",
              "      flex-wrap:wrap;\n",
              "      gap: 12px;\n",
              "    }\n",
              "\n",
              "    .colab-df-convert {\n",
              "      background-color: #E8F0FE;\n",
              "      border: none;\n",
              "      border-radius: 50%;\n",
              "      cursor: pointer;\n",
              "      display: none;\n",
              "      fill: #1967D2;\n",
              "      height: 32px;\n",
              "      padding: 0 0 0 0;\n",
              "      width: 32px;\n",
              "    }\n",
              "\n",
              "    .colab-df-convert:hover {\n",
              "      background-color: #E2EBFA;\n",
              "      box-shadow: 0px 1px 2px rgba(60, 64, 67, 0.3), 0px 1px 3px 1px rgba(60, 64, 67, 0.15);\n",
              "      fill: #174EA6;\n",
              "    }\n",
              "\n",
              "    [theme=dark] .colab-df-convert {\n",
              "      background-color: #3B4455;\n",
              "      fill: #D2E3FC;\n",
              "    }\n",
              "\n",
              "    [theme=dark] .colab-df-convert:hover {\n",
              "      background-color: #434B5C;\n",
              "      box-shadow: 0px 1px 3px 1px rgba(0, 0, 0, 0.15);\n",
              "      filter: drop-shadow(0px 1px 2px rgba(0, 0, 0, 0.3));\n",
              "      fill: #FFFFFF;\n",
              "    }\n",
              "  </style>\n",
              "\n",
              "      <script>\n",
              "        const buttonEl =\n",
              "          document.querySelector('#df-5247dea3-c2ca-4fe8-b5cf-620a7b2bef23 button.colab-df-convert');\n",
              "        buttonEl.style.display =\n",
              "          google.colab.kernel.accessAllowed ? 'block' : 'none';\n",
              "\n",
              "        async function convertToInteractive(key) {\n",
              "          const element = document.querySelector('#df-5247dea3-c2ca-4fe8-b5cf-620a7b2bef23');\n",
              "          const dataTable =\n",
              "            await google.colab.kernel.invokeFunction('convertToInteractive',\n",
              "                                                     [key], {});\n",
              "          if (!dataTable) return;\n",
              "\n",
              "          const docLinkHtml = 'Like what you see? Visit the ' +\n",
              "            '<a target=\"_blank\" href=https://colab.research.google.com/notebooks/data_table.ipynb>data table notebook</a>'\n",
              "            + ' to learn more about interactive tables.';\n",
              "          element.innerHTML = '';\n",
              "          dataTable['output_type'] = 'display_data';\n",
              "          await google.colab.output.renderOutput(dataTable, element);\n",
              "          const docLink = document.createElement('div');\n",
              "          docLink.innerHTML = docLinkHtml;\n",
              "          element.appendChild(docLink);\n",
              "        }\n",
              "      </script>\n",
              "    </div>\n",
              "  </div>\n",
              "  "
            ],
            "text/plain": [
              "                                bike_name   price  ... power          brand\n",
              "0      TVS Star City Plus Dual Tone 110cc   35000  ...   110            TVS\n",
              "1             Royal Enfield Classic 350cc  119900  ...   350  Royal Enfield\n",
              "2                    Triumph Daytona 675R  600000  ...   675        Triumph\n",
              "3                    TVS Apache RTR 180cc   65000  ...   180            TVS\n",
              "4    Yamaha FZ S V 2.0 150cc-Ltd. Edition   80000  ...   150         Yamaha\n",
              "..                                    ...     ...  ...   ...            ...\n",
              "144          Royal Enfield Standard 350cc  115000  ...   350  Royal Enfield\n",
              "145             Honda CB Shine 125cc Disc   65000  ...   125          Honda\n",
              "146            Honda CB Unicorn ABS 150cc   99000  ...   150          Honda\n",
              "147              Yamaha YZF-R15 2.0 150cc   68500  ...   150         Yamaha\n",
              "148               Yamaha YZF-R15 V3 150cc  140000  ...   150         Yamaha\n",
              "\n",
              "[149 rows x 8 columns]"
            ]
          },
          "metadata": {},
          "execution_count": 14
        }
      ]
    }
  ]
}