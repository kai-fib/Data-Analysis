{
  "nbformat": 4,
  "nbformat_minor": 0,
  "metadata": {
    "colab": {
      "name": "Task 1.ipynb",
      "provenance": []
    },
    "kernelspec": {
      "name": "python3",
      "display_name": "Python 3"
    },
    "language_info": {
      "name": "python"
    }
  },
  "cells": [
    {
      "cell_type": "markdown",
      "source": [
        "**Description**\n",
        "\n",
        "* There are 2 datasets present in the file. Data 1 and \n",
        "   Data 2\n",
        "\n",
        "* The primary key for both data1 and data2 is Order Id + Product ID combination (i.e. the individual datasets do not have any duplicate on this combination)\n",
        "\n",
        "**Provide solution and approach for the following:**\n",
        "\n",
        "1. How to identify the Records (Order ID + Product ID combination) present in data1 but missing in data2***(Specify the number of records missing in your answer)***\n",
        "\n",
        "2. How to identify the Records (Order ID + Product ID combination) missing in data1 but present in data2 ***(Specify the number of records missing in your answer)***\n",
        "\n",
        "3. Find the Sum of the total Qty of Records missing in data1 but present in data2\n",
        "\n",
        "4. Find the total number of unique records (Order ID + Product ID combination) present in the combined dataset of data1 and data2\n"
      ],
      "metadata": {
        "id": "NCJBVWswO54r"
      }
    },
    {
      "cell_type": "code",
      "execution_count": 1,
      "metadata": {
        "id": "2h3iwgi0OtfL"
      },
      "outputs": [],
      "source": [
        "#importing Pandas for data analysis\n",
        "import pandas as pd"
      ]
    },
    {
      "cell_type": "markdown",
      "source": [
        "(i)Downloaded the excel files and then converted them into csv files separate for each dataset i.e data1 and data2\n",
        "\n",
        "(ii) Read the data files using Pandas"
      ],
      "metadata": {
        "id": "sUe_B5QhRbv8"
      }
    },
    {
      "cell_type": "code",
      "source": [
        "#reading data1\n",
        "df1 = pd.read_csv('/content/data 1.csv')\n",
        "df1.head()"
      ],
      "metadata": {
        "colab": {
          "base_uri": "https://localhost:8080/",
          "height": 423
        },
        "id": "sjb6WOzkRaXt",
        "outputId": "321a34a7-66a1-474a-ef0b-4827e5530049"
      },
      "execution_count": 26,
      "outputs": [
        {
          "output_type": "execute_result",
          "data": {
            "text/html": [
              "\n",
              "  <div id=\"df-655aaacd-3aed-4ed6-9e55-74e66b95bbf1\">\n",
              "    <div class=\"colab-df-container\">\n",
              "      <div>\n",
              "<style scoped>\n",
              "    .dataframe tbody tr th:only-of-type {\n",
              "        vertical-align: middle;\n",
              "    }\n",
              "\n",
              "    .dataframe tbody tr th {\n",
              "        vertical-align: top;\n",
              "    }\n",
              "\n",
              "    .dataframe thead th {\n",
              "        text-align: right;\n",
              "    }\n",
              "</style>\n",
              "<table border=\"1\" class=\"dataframe\">\n",
              "  <thead>\n",
              "    <tr style=\"text-align: right;\">\n",
              "      <th></th>\n",
              "      <th>Order ID</th>\n",
              "      <th>Product ID</th>\n",
              "      <th>Qty</th>\n",
              "    </tr>\n",
              "  </thead>\n",
              "  <tbody>\n",
              "    <tr>\n",
              "      <th>0</th>\n",
              "      <td>CA-2014-100006</td>\n",
              "      <td>TEC-PH-10002075</td>\n",
              "      <td>3</td>\n",
              "    </tr>\n",
              "    <tr>\n",
              "      <th>1</th>\n",
              "      <td>CA-2014-100090</td>\n",
              "      <td>FUR-TA-10003715</td>\n",
              "      <td>3</td>\n",
              "    </tr>\n",
              "    <tr>\n",
              "      <th>2</th>\n",
              "      <td>CA-2014-100090</td>\n",
              "      <td>OFF-BI-10001597</td>\n",
              "      <td>6</td>\n",
              "    </tr>\n",
              "    <tr>\n",
              "      <th>3</th>\n",
              "      <td>CA-2014-100293</td>\n",
              "      <td>OFF-PA-10000176</td>\n",
              "      <td>6</td>\n",
              "    </tr>\n",
              "    <tr>\n",
              "      <th>4</th>\n",
              "      <td>CA-2014-100328</td>\n",
              "      <td>OFF-BI-10000343</td>\n",
              "      <td>1</td>\n",
              "    </tr>\n",
              "    <tr>\n",
              "      <th>...</th>\n",
              "      <td>...</td>\n",
              "      <td>...</td>\n",
              "      <td>...</td>\n",
              "    </tr>\n",
              "    <tr>\n",
              "      <th>9473</th>\n",
              "      <td>US-2017-169551</td>\n",
              "      <td>OFF-PA-10004100</td>\n",
              "      <td>3</td>\n",
              "    </tr>\n",
              "    <tr>\n",
              "      <th>9474</th>\n",
              "      <td>US-2017-169551</td>\n",
              "      <td>OFF-ST-10004835</td>\n",
              "      <td>3</td>\n",
              "    </tr>\n",
              "    <tr>\n",
              "      <th>9475</th>\n",
              "      <td>US-2017-169551</td>\n",
              "      <td>TEC-AC-10002018</td>\n",
              "      <td>3</td>\n",
              "    </tr>\n",
              "    <tr>\n",
              "      <th>9476</th>\n",
              "      <td>US-2017-169551</td>\n",
              "      <td>TEC-AC-10003033</td>\n",
              "      <td>2</td>\n",
              "    </tr>\n",
              "    <tr>\n",
              "      <th>9477</th>\n",
              "      <td>US-2017-169551</td>\n",
              "      <td>TEC-PH-10001363</td>\n",
              "      <td>2</td>\n",
              "    </tr>\n",
              "  </tbody>\n",
              "</table>\n",
              "<p>9478 rows × 3 columns</p>\n",
              "</div>\n",
              "      <button class=\"colab-df-convert\" onclick=\"convertToInteractive('df-655aaacd-3aed-4ed6-9e55-74e66b95bbf1')\"\n",
              "              title=\"Convert this dataframe to an interactive table.\"\n",
              "              style=\"display:none;\">\n",
              "        \n",
              "  <svg xmlns=\"http://www.w3.org/2000/svg\" height=\"24px\"viewBox=\"0 0 24 24\"\n",
              "       width=\"24px\">\n",
              "    <path d=\"M0 0h24v24H0V0z\" fill=\"none\"/>\n",
              "    <path d=\"M18.56 5.44l.94 2.06.94-2.06 2.06-.94-2.06-.94-.94-2.06-.94 2.06-2.06.94zm-11 1L8.5 8.5l.94-2.06 2.06-.94-2.06-.94L8.5 2.5l-.94 2.06-2.06.94zm10 10l.94 2.06.94-2.06 2.06-.94-2.06-.94-.94-2.06-.94 2.06-2.06.94z\"/><path d=\"M17.41 7.96l-1.37-1.37c-.4-.4-.92-.59-1.43-.59-.52 0-1.04.2-1.43.59L10.3 9.45l-7.72 7.72c-.78.78-.78 2.05 0 2.83L4 21.41c.39.39.9.59 1.41.59.51 0 1.02-.2 1.41-.59l7.78-7.78 2.81-2.81c.8-.78.8-2.07 0-2.86zM5.41 20L4 18.59l7.72-7.72 1.47 1.35L5.41 20z\"/>\n",
              "  </svg>\n",
              "      </button>\n",
              "      \n",
              "  <style>\n",
              "    .colab-df-container {\n",
              "      display:flex;\n",
              "      flex-wrap:wrap;\n",
              "      gap: 12px;\n",
              "    }\n",
              "\n",
              "    .colab-df-convert {\n",
              "      background-color: #E8F0FE;\n",
              "      border: none;\n",
              "      border-radius: 50%;\n",
              "      cursor: pointer;\n",
              "      display: none;\n",
              "      fill: #1967D2;\n",
              "      height: 32px;\n",
              "      padding: 0 0 0 0;\n",
              "      width: 32px;\n",
              "    }\n",
              "\n",
              "    .colab-df-convert:hover {\n",
              "      background-color: #E2EBFA;\n",
              "      box-shadow: 0px 1px 2px rgba(60, 64, 67, 0.3), 0px 1px 3px 1px rgba(60, 64, 67, 0.15);\n",
              "      fill: #174EA6;\n",
              "    }\n",
              "\n",
              "    [theme=dark] .colab-df-convert {\n",
              "      background-color: #3B4455;\n",
              "      fill: #D2E3FC;\n",
              "    }\n",
              "\n",
              "    [theme=dark] .colab-df-convert:hover {\n",
              "      background-color: #434B5C;\n",
              "      box-shadow: 0px 1px 3px 1px rgba(0, 0, 0, 0.15);\n",
              "      filter: drop-shadow(0px 1px 2px rgba(0, 0, 0, 0.3));\n",
              "      fill: #FFFFFF;\n",
              "    }\n",
              "  </style>\n",
              "\n",
              "      <script>\n",
              "        const buttonEl =\n",
              "          document.querySelector('#df-655aaacd-3aed-4ed6-9e55-74e66b95bbf1 button.colab-df-convert');\n",
              "        buttonEl.style.display =\n",
              "          google.colab.kernel.accessAllowed ? 'block' : 'none';\n",
              "\n",
              "        async function convertToInteractive(key) {\n",
              "          const element = document.querySelector('#df-655aaacd-3aed-4ed6-9e55-74e66b95bbf1');\n",
              "          const dataTable =\n",
              "            await google.colab.kernel.invokeFunction('convertToInteractive',\n",
              "                                                     [key], {});\n",
              "          if (!dataTable) return;\n",
              "\n",
              "          const docLinkHtml = 'Like what you see? Visit the ' +\n",
              "            '<a target=\"_blank\" href=https://colab.research.google.com/notebooks/data_table.ipynb>data table notebook</a>'\n",
              "            + ' to learn more about interactive tables.';\n",
              "          element.innerHTML = '';\n",
              "          dataTable['output_type'] = 'display_data';\n",
              "          await google.colab.output.renderOutput(dataTable, element);\n",
              "          const docLink = document.createElement('div');\n",
              "          docLink.innerHTML = docLinkHtml;\n",
              "          element.appendChild(docLink);\n",
              "        }\n",
              "      </script>\n",
              "    </div>\n",
              "  </div>\n",
              "  "
            ],
            "text/plain": [
              "            Order ID       Product ID  Qty\n",
              "0     CA-2014-100006  TEC-PH-10002075    3\n",
              "1     CA-2014-100090  FUR-TA-10003715    3\n",
              "2     CA-2014-100090  OFF-BI-10001597    6\n",
              "3     CA-2014-100293  OFF-PA-10000176    6\n",
              "4     CA-2014-100328  OFF-BI-10000343    1\n",
              "...              ...              ...  ...\n",
              "9473  US-2017-169551  OFF-PA-10004100    3\n",
              "9474  US-2017-169551  OFF-ST-10004835    3\n",
              "9475  US-2017-169551  TEC-AC-10002018    3\n",
              "9476  US-2017-169551  TEC-AC-10003033    2\n",
              "9477  US-2017-169551  TEC-PH-10001363    2\n",
              "\n",
              "[9478 rows x 3 columns]"
            ]
          },
          "metadata": {},
          "execution_count": 26
        }
      ]
    },
    {
      "cell_type": "code",
      "source": [
        "#reading data2\n",
        "df2 = pd.read_csv('/content/data 2.csv')\n",
        "df2"
      ],
      "metadata": {
        "colab": {
          "base_uri": "https://localhost:8080/",
          "height": 423
        },
        "id": "JYvXwz6eSEvK",
        "outputId": "b1c17005-89ab-49fc-98ba-aa9d1b607b28"
      },
      "execution_count": 27,
      "outputs": [
        {
          "output_type": "execute_result",
          "data": {
            "text/html": [
              "\n",
              "  <div id=\"df-6af8d95d-6c7d-4d9e-afae-cb803d46ea5a\">\n",
              "    <div class=\"colab-df-container\">\n",
              "      <div>\n",
              "<style scoped>\n",
              "    .dataframe tbody tr th:only-of-type {\n",
              "        vertical-align: middle;\n",
              "    }\n",
              "\n",
              "    .dataframe tbody tr th {\n",
              "        vertical-align: top;\n",
              "    }\n",
              "\n",
              "    .dataframe thead th {\n",
              "        text-align: right;\n",
              "    }\n",
              "</style>\n",
              "<table border=\"1\" class=\"dataframe\">\n",
              "  <thead>\n",
              "    <tr style=\"text-align: right;\">\n",
              "      <th></th>\n",
              "      <th>Order ID</th>\n",
              "      <th>Product ID</th>\n",
              "      <th>Qty</th>\n",
              "    </tr>\n",
              "  </thead>\n",
              "  <tbody>\n",
              "    <tr>\n",
              "      <th>0</th>\n",
              "      <td>CA-2014-100090</td>\n",
              "      <td>FUR-TA-10003715</td>\n",
              "      <td>3</td>\n",
              "    </tr>\n",
              "    <tr>\n",
              "      <th>1</th>\n",
              "      <td>CA-2014-100090</td>\n",
              "      <td>OFF-BI-10001597</td>\n",
              "      <td>6</td>\n",
              "    </tr>\n",
              "    <tr>\n",
              "      <th>2</th>\n",
              "      <td>CA-2014-100293</td>\n",
              "      <td>OFF-PA-10000176</td>\n",
              "      <td>6</td>\n",
              "    </tr>\n",
              "    <tr>\n",
              "      <th>3</th>\n",
              "      <td>CA-2014-100328</td>\n",
              "      <td>OFF-BI-10000343</td>\n",
              "      <td>1</td>\n",
              "    </tr>\n",
              "    <tr>\n",
              "      <th>4</th>\n",
              "      <td>CA-2014-100363</td>\n",
              "      <td>OFF-FA-10000611</td>\n",
              "      <td>2</td>\n",
              "    </tr>\n",
              "    <tr>\n",
              "      <th>...</th>\n",
              "      <td>...</td>\n",
              "      <td>...</td>\n",
              "      <td>...</td>\n",
              "    </tr>\n",
              "    <tr>\n",
              "      <th>9474</th>\n",
              "      <td>US-2017-169551</td>\n",
              "      <td>OFF-PA-10004100</td>\n",
              "      <td>3</td>\n",
              "    </tr>\n",
              "    <tr>\n",
              "      <th>9475</th>\n",
              "      <td>US-2017-169551</td>\n",
              "      <td>OFF-ST-10004835</td>\n",
              "      <td>3</td>\n",
              "    </tr>\n",
              "    <tr>\n",
              "      <th>9476</th>\n",
              "      <td>US-2017-169551</td>\n",
              "      <td>TEC-AC-10002018</td>\n",
              "      <td>3</td>\n",
              "    </tr>\n",
              "    <tr>\n",
              "      <th>9477</th>\n",
              "      <td>US-2017-169551</td>\n",
              "      <td>TEC-AC-10003033</td>\n",
              "      <td>2</td>\n",
              "    </tr>\n",
              "    <tr>\n",
              "      <th>9478</th>\n",
              "      <td>US-2017-169551</td>\n",
              "      <td>TEC-PH-10001363</td>\n",
              "      <td>2</td>\n",
              "    </tr>\n",
              "  </tbody>\n",
              "</table>\n",
              "<p>9479 rows × 3 columns</p>\n",
              "</div>\n",
              "      <button class=\"colab-df-convert\" onclick=\"convertToInteractive('df-6af8d95d-6c7d-4d9e-afae-cb803d46ea5a')\"\n",
              "              title=\"Convert this dataframe to an interactive table.\"\n",
              "              style=\"display:none;\">\n",
              "        \n",
              "  <svg xmlns=\"http://www.w3.org/2000/svg\" height=\"24px\"viewBox=\"0 0 24 24\"\n",
              "       width=\"24px\">\n",
              "    <path d=\"M0 0h24v24H0V0z\" fill=\"none\"/>\n",
              "    <path d=\"M18.56 5.44l.94 2.06.94-2.06 2.06-.94-2.06-.94-.94-2.06-.94 2.06-2.06.94zm-11 1L8.5 8.5l.94-2.06 2.06-.94-2.06-.94L8.5 2.5l-.94 2.06-2.06.94zm10 10l.94 2.06.94-2.06 2.06-.94-2.06-.94-.94-2.06-.94 2.06-2.06.94z\"/><path d=\"M17.41 7.96l-1.37-1.37c-.4-.4-.92-.59-1.43-.59-.52 0-1.04.2-1.43.59L10.3 9.45l-7.72 7.72c-.78.78-.78 2.05 0 2.83L4 21.41c.39.39.9.59 1.41.59.51 0 1.02-.2 1.41-.59l7.78-7.78 2.81-2.81c.8-.78.8-2.07 0-2.86zM5.41 20L4 18.59l7.72-7.72 1.47 1.35L5.41 20z\"/>\n",
              "  </svg>\n",
              "      </button>\n",
              "      \n",
              "  <style>\n",
              "    .colab-df-container {\n",
              "      display:flex;\n",
              "      flex-wrap:wrap;\n",
              "      gap: 12px;\n",
              "    }\n",
              "\n",
              "    .colab-df-convert {\n",
              "      background-color: #E8F0FE;\n",
              "      border: none;\n",
              "      border-radius: 50%;\n",
              "      cursor: pointer;\n",
              "      display: none;\n",
              "      fill: #1967D2;\n",
              "      height: 32px;\n",
              "      padding: 0 0 0 0;\n",
              "      width: 32px;\n",
              "    }\n",
              "\n",
              "    .colab-df-convert:hover {\n",
              "      background-color: #E2EBFA;\n",
              "      box-shadow: 0px 1px 2px rgba(60, 64, 67, 0.3), 0px 1px 3px 1px rgba(60, 64, 67, 0.15);\n",
              "      fill: #174EA6;\n",
              "    }\n",
              "\n",
              "    [theme=dark] .colab-df-convert {\n",
              "      background-color: #3B4455;\n",
              "      fill: #D2E3FC;\n",
              "    }\n",
              "\n",
              "    [theme=dark] .colab-df-convert:hover {\n",
              "      background-color: #434B5C;\n",
              "      box-shadow: 0px 1px 3px 1px rgba(0, 0, 0, 0.15);\n",
              "      filter: drop-shadow(0px 1px 2px rgba(0, 0, 0, 0.3));\n",
              "      fill: #FFFFFF;\n",
              "    }\n",
              "  </style>\n",
              "\n",
              "      <script>\n",
              "        const buttonEl =\n",
              "          document.querySelector('#df-6af8d95d-6c7d-4d9e-afae-cb803d46ea5a button.colab-df-convert');\n",
              "        buttonEl.style.display =\n",
              "          google.colab.kernel.accessAllowed ? 'block' : 'none';\n",
              "\n",
              "        async function convertToInteractive(key) {\n",
              "          const element = document.querySelector('#df-6af8d95d-6c7d-4d9e-afae-cb803d46ea5a');\n",
              "          const dataTable =\n",
              "            await google.colab.kernel.invokeFunction('convertToInteractive',\n",
              "                                                     [key], {});\n",
              "          if (!dataTable) return;\n",
              "\n",
              "          const docLinkHtml = 'Like what you see? Visit the ' +\n",
              "            '<a target=\"_blank\" href=https://colab.research.google.com/notebooks/data_table.ipynb>data table notebook</a>'\n",
              "            + ' to learn more about interactive tables.';\n",
              "          element.innerHTML = '';\n",
              "          dataTable['output_type'] = 'display_data';\n",
              "          await google.colab.output.renderOutput(dataTable, element);\n",
              "          const docLink = document.createElement('div');\n",
              "          docLink.innerHTML = docLinkHtml;\n",
              "          element.appendChild(docLink);\n",
              "        }\n",
              "      </script>\n",
              "    </div>\n",
              "  </div>\n",
              "  "
            ],
            "text/plain": [
              "            Order ID       Product ID  Qty\n",
              "0     CA-2014-100090  FUR-TA-10003715    3\n",
              "1     CA-2014-100090  OFF-BI-10001597    6\n",
              "2     CA-2014-100293  OFF-PA-10000176    6\n",
              "3     CA-2014-100328  OFF-BI-10000343    1\n",
              "4     CA-2014-100363  OFF-FA-10000611    2\n",
              "...              ...              ...  ...\n",
              "9474  US-2017-169551  OFF-PA-10004100    3\n",
              "9475  US-2017-169551  OFF-ST-10004835    3\n",
              "9476  US-2017-169551  TEC-AC-10002018    3\n",
              "9477  US-2017-169551  TEC-AC-10003033    2\n",
              "9478  US-2017-169551  TEC-PH-10001363    2\n",
              "\n",
              "[9479 rows x 3 columns]"
            ]
          },
          "metadata": {},
          "execution_count": 27
        }
      ]
    },
    {
      "cell_type": "markdown",
      "source": [
        "(iii) To apply analysis, I removed whitespace between Product ID and Order ID by\n",
        "renaming the column as Product_ID and Order_ID respectively"
      ],
      "metadata": {
        "id": "uoRyfuFySZwK"
      }
    },
    {
      "cell_type": "code",
      "source": [
        "#renaming the Columns\n",
        "df1.rename(columns={'Order ID': 'Order_ID', 'Product ID': 'Product_ID'}, inplace=True)\n",
        "df2.rename(columns={'Order ID': 'Order_ID', 'Product ID': 'Product_ID'}, inplace=True)"
      ],
      "metadata": {
        "id": "Frj4r9WGSfeV"
      },
      "execution_count": 4,
      "outputs": []
    },
    {
      "cell_type": "markdown",
      "source": [
        "(iv)Combined Order_ID and Product_ID as they both are primary keys and make a new\n",
        "column as **“combined”** which is new Primary key for the datasets\n"
      ],
      "metadata": {
        "id": "INJWfHdgTNJE"
      }
    },
    {
      "cell_type": "code",
      "source": [
        "#concatenating Primary Keys 'Order_ID' and 'Product_ID' into one key 'combined'\n",
        "cols = ['Order_ID','Product_ID']\n",
        "df1['combined'] = df1[cols].apply(lambda row: '_'.join(row.values.astype(str)), axis=1)\n",
        "df2['combined'] = df2[cols].apply(lambda row: '_'.join(row.values.astype(str)), axis=1)"
      ],
      "metadata": {
        "id": "NIiBhqZ5SxvU"
      },
      "execution_count": 5,
      "outputs": []
    },
    {
      "cell_type": "code",
      "source": [
        "#checking whether data manipulation done correctly in data1\n",
        "df1.head()"
      ],
      "metadata": {
        "colab": {
          "base_uri": "https://localhost:8080/",
          "height": 206
        },
        "id": "sDLc4WesTm2Z",
        "outputId": "841a9f4a-1c8c-415e-f8f4-e2b153cb20bb"
      },
      "execution_count": 6,
      "outputs": [
        {
          "output_type": "execute_result",
          "data": {
            "text/html": [
              "\n",
              "  <div id=\"df-2f83e439-cc47-4f35-ab8e-399787299d76\">\n",
              "    <div class=\"colab-df-container\">\n",
              "      <div>\n",
              "<style scoped>\n",
              "    .dataframe tbody tr th:only-of-type {\n",
              "        vertical-align: middle;\n",
              "    }\n",
              "\n",
              "    .dataframe tbody tr th {\n",
              "        vertical-align: top;\n",
              "    }\n",
              "\n",
              "    .dataframe thead th {\n",
              "        text-align: right;\n",
              "    }\n",
              "</style>\n",
              "<table border=\"1\" class=\"dataframe\">\n",
              "  <thead>\n",
              "    <tr style=\"text-align: right;\">\n",
              "      <th></th>\n",
              "      <th>Order_ID</th>\n",
              "      <th>Product_ID</th>\n",
              "      <th>Qty</th>\n",
              "      <th>combined</th>\n",
              "    </tr>\n",
              "  </thead>\n",
              "  <tbody>\n",
              "    <tr>\n",
              "      <th>0</th>\n",
              "      <td>CA-2014-100006</td>\n",
              "      <td>TEC-PH-10002075</td>\n",
              "      <td>3</td>\n",
              "      <td>CA-2014-100006_TEC-PH-10002075</td>\n",
              "    </tr>\n",
              "    <tr>\n",
              "      <th>1</th>\n",
              "      <td>CA-2014-100090</td>\n",
              "      <td>FUR-TA-10003715</td>\n",
              "      <td>3</td>\n",
              "      <td>CA-2014-100090_FUR-TA-10003715</td>\n",
              "    </tr>\n",
              "    <tr>\n",
              "      <th>2</th>\n",
              "      <td>CA-2014-100090</td>\n",
              "      <td>OFF-BI-10001597</td>\n",
              "      <td>6</td>\n",
              "      <td>CA-2014-100090_OFF-BI-10001597</td>\n",
              "    </tr>\n",
              "    <tr>\n",
              "      <th>3</th>\n",
              "      <td>CA-2014-100293</td>\n",
              "      <td>OFF-PA-10000176</td>\n",
              "      <td>6</td>\n",
              "      <td>CA-2014-100293_OFF-PA-10000176</td>\n",
              "    </tr>\n",
              "    <tr>\n",
              "      <th>4</th>\n",
              "      <td>CA-2014-100328</td>\n",
              "      <td>OFF-BI-10000343</td>\n",
              "      <td>1</td>\n",
              "      <td>CA-2014-100328_OFF-BI-10000343</td>\n",
              "    </tr>\n",
              "  </tbody>\n",
              "</table>\n",
              "</div>\n",
              "      <button class=\"colab-df-convert\" onclick=\"convertToInteractive('df-2f83e439-cc47-4f35-ab8e-399787299d76')\"\n",
              "              title=\"Convert this dataframe to an interactive table.\"\n",
              "              style=\"display:none;\">\n",
              "        \n",
              "  <svg xmlns=\"http://www.w3.org/2000/svg\" height=\"24px\"viewBox=\"0 0 24 24\"\n",
              "       width=\"24px\">\n",
              "    <path d=\"M0 0h24v24H0V0z\" fill=\"none\"/>\n",
              "    <path d=\"M18.56 5.44l.94 2.06.94-2.06 2.06-.94-2.06-.94-.94-2.06-.94 2.06-2.06.94zm-11 1L8.5 8.5l.94-2.06 2.06-.94-2.06-.94L8.5 2.5l-.94 2.06-2.06.94zm10 10l.94 2.06.94-2.06 2.06-.94-2.06-.94-.94-2.06-.94 2.06-2.06.94z\"/><path d=\"M17.41 7.96l-1.37-1.37c-.4-.4-.92-.59-1.43-.59-.52 0-1.04.2-1.43.59L10.3 9.45l-7.72 7.72c-.78.78-.78 2.05 0 2.83L4 21.41c.39.39.9.59 1.41.59.51 0 1.02-.2 1.41-.59l7.78-7.78 2.81-2.81c.8-.78.8-2.07 0-2.86zM5.41 20L4 18.59l7.72-7.72 1.47 1.35L5.41 20z\"/>\n",
              "  </svg>\n",
              "      </button>\n",
              "      \n",
              "  <style>\n",
              "    .colab-df-container {\n",
              "      display:flex;\n",
              "      flex-wrap:wrap;\n",
              "      gap: 12px;\n",
              "    }\n",
              "\n",
              "    .colab-df-convert {\n",
              "      background-color: #E8F0FE;\n",
              "      border: none;\n",
              "      border-radius: 50%;\n",
              "      cursor: pointer;\n",
              "      display: none;\n",
              "      fill: #1967D2;\n",
              "      height: 32px;\n",
              "      padding: 0 0 0 0;\n",
              "      width: 32px;\n",
              "    }\n",
              "\n",
              "    .colab-df-convert:hover {\n",
              "      background-color: #E2EBFA;\n",
              "      box-shadow: 0px 1px 2px rgba(60, 64, 67, 0.3), 0px 1px 3px 1px rgba(60, 64, 67, 0.15);\n",
              "      fill: #174EA6;\n",
              "    }\n",
              "\n",
              "    [theme=dark] .colab-df-convert {\n",
              "      background-color: #3B4455;\n",
              "      fill: #D2E3FC;\n",
              "    }\n",
              "\n",
              "    [theme=dark] .colab-df-convert:hover {\n",
              "      background-color: #434B5C;\n",
              "      box-shadow: 0px 1px 3px 1px rgba(0, 0, 0, 0.15);\n",
              "      filter: drop-shadow(0px 1px 2px rgba(0, 0, 0, 0.3));\n",
              "      fill: #FFFFFF;\n",
              "    }\n",
              "  </style>\n",
              "\n",
              "      <script>\n",
              "        const buttonEl =\n",
              "          document.querySelector('#df-2f83e439-cc47-4f35-ab8e-399787299d76 button.colab-df-convert');\n",
              "        buttonEl.style.display =\n",
              "          google.colab.kernel.accessAllowed ? 'block' : 'none';\n",
              "\n",
              "        async function convertToInteractive(key) {\n",
              "          const element = document.querySelector('#df-2f83e439-cc47-4f35-ab8e-399787299d76');\n",
              "          const dataTable =\n",
              "            await google.colab.kernel.invokeFunction('convertToInteractive',\n",
              "                                                     [key], {});\n",
              "          if (!dataTable) return;\n",
              "\n",
              "          const docLinkHtml = 'Like what you see? Visit the ' +\n",
              "            '<a target=\"_blank\" href=https://colab.research.google.com/notebooks/data_table.ipynb>data table notebook</a>'\n",
              "            + ' to learn more about interactive tables.';\n",
              "          element.innerHTML = '';\n",
              "          dataTable['output_type'] = 'display_data';\n",
              "          await google.colab.output.renderOutput(dataTable, element);\n",
              "          const docLink = document.createElement('div');\n",
              "          docLink.innerHTML = docLinkHtml;\n",
              "          element.appendChild(docLink);\n",
              "        }\n",
              "      </script>\n",
              "    </div>\n",
              "  </div>\n",
              "  "
            ],
            "text/plain": [
              "         Order_ID       Product_ID  Qty                        combined\n",
              "0  CA-2014-100006  TEC-PH-10002075    3  CA-2014-100006_TEC-PH-10002075\n",
              "1  CA-2014-100090  FUR-TA-10003715    3  CA-2014-100090_FUR-TA-10003715\n",
              "2  CA-2014-100090  OFF-BI-10001597    6  CA-2014-100090_OFF-BI-10001597\n",
              "3  CA-2014-100293  OFF-PA-10000176    6  CA-2014-100293_OFF-PA-10000176\n",
              "4  CA-2014-100328  OFF-BI-10000343    1  CA-2014-100328_OFF-BI-10000343"
            ]
          },
          "metadata": {},
          "execution_count": 6
        }
      ]
    },
    {
      "cell_type": "code",
      "source": [
        "#checking whether data manipulation done correctly in data1\n",
        "df2.head()"
      ],
      "metadata": {
        "colab": {
          "base_uri": "https://localhost:8080/",
          "height": 206
        },
        "id": "hwCeasqeTzZ8",
        "outputId": "7dd01cda-b8a3-4dcb-ee1f-e82ed97080f3"
      },
      "execution_count": 7,
      "outputs": [
        {
          "output_type": "execute_result",
          "data": {
            "text/html": [
              "\n",
              "  <div id=\"df-efe04fcf-602f-4b36-abff-ffaede9945a7\">\n",
              "    <div class=\"colab-df-container\">\n",
              "      <div>\n",
              "<style scoped>\n",
              "    .dataframe tbody tr th:only-of-type {\n",
              "        vertical-align: middle;\n",
              "    }\n",
              "\n",
              "    .dataframe tbody tr th {\n",
              "        vertical-align: top;\n",
              "    }\n",
              "\n",
              "    .dataframe thead th {\n",
              "        text-align: right;\n",
              "    }\n",
              "</style>\n",
              "<table border=\"1\" class=\"dataframe\">\n",
              "  <thead>\n",
              "    <tr style=\"text-align: right;\">\n",
              "      <th></th>\n",
              "      <th>Order_ID</th>\n",
              "      <th>Product_ID</th>\n",
              "      <th>Qty</th>\n",
              "      <th>combined</th>\n",
              "    </tr>\n",
              "  </thead>\n",
              "  <tbody>\n",
              "    <tr>\n",
              "      <th>0</th>\n",
              "      <td>CA-2014-100090</td>\n",
              "      <td>FUR-TA-10003715</td>\n",
              "      <td>3</td>\n",
              "      <td>CA-2014-100090_FUR-TA-10003715</td>\n",
              "    </tr>\n",
              "    <tr>\n",
              "      <th>1</th>\n",
              "      <td>CA-2014-100090</td>\n",
              "      <td>OFF-BI-10001597</td>\n",
              "      <td>6</td>\n",
              "      <td>CA-2014-100090_OFF-BI-10001597</td>\n",
              "    </tr>\n",
              "    <tr>\n",
              "      <th>2</th>\n",
              "      <td>CA-2014-100293</td>\n",
              "      <td>OFF-PA-10000176</td>\n",
              "      <td>6</td>\n",
              "      <td>CA-2014-100293_OFF-PA-10000176</td>\n",
              "    </tr>\n",
              "    <tr>\n",
              "      <th>3</th>\n",
              "      <td>CA-2014-100328</td>\n",
              "      <td>OFF-BI-10000343</td>\n",
              "      <td>1</td>\n",
              "      <td>CA-2014-100328_OFF-BI-10000343</td>\n",
              "    </tr>\n",
              "    <tr>\n",
              "      <th>4</th>\n",
              "      <td>CA-2014-100363</td>\n",
              "      <td>OFF-FA-10000611</td>\n",
              "      <td>2</td>\n",
              "      <td>CA-2014-100363_OFF-FA-10000611</td>\n",
              "    </tr>\n",
              "  </tbody>\n",
              "</table>\n",
              "</div>\n",
              "      <button class=\"colab-df-convert\" onclick=\"convertToInteractive('df-efe04fcf-602f-4b36-abff-ffaede9945a7')\"\n",
              "              title=\"Convert this dataframe to an interactive table.\"\n",
              "              style=\"display:none;\">\n",
              "        \n",
              "  <svg xmlns=\"http://www.w3.org/2000/svg\" height=\"24px\"viewBox=\"0 0 24 24\"\n",
              "       width=\"24px\">\n",
              "    <path d=\"M0 0h24v24H0V0z\" fill=\"none\"/>\n",
              "    <path d=\"M18.56 5.44l.94 2.06.94-2.06 2.06-.94-2.06-.94-.94-2.06-.94 2.06-2.06.94zm-11 1L8.5 8.5l.94-2.06 2.06-.94-2.06-.94L8.5 2.5l-.94 2.06-2.06.94zm10 10l.94 2.06.94-2.06 2.06-.94-2.06-.94-.94-2.06-.94 2.06-2.06.94z\"/><path d=\"M17.41 7.96l-1.37-1.37c-.4-.4-.92-.59-1.43-.59-.52 0-1.04.2-1.43.59L10.3 9.45l-7.72 7.72c-.78.78-.78 2.05 0 2.83L4 21.41c.39.39.9.59 1.41.59.51 0 1.02-.2 1.41-.59l7.78-7.78 2.81-2.81c.8-.78.8-2.07 0-2.86zM5.41 20L4 18.59l7.72-7.72 1.47 1.35L5.41 20z\"/>\n",
              "  </svg>\n",
              "      </button>\n",
              "      \n",
              "  <style>\n",
              "    .colab-df-container {\n",
              "      display:flex;\n",
              "      flex-wrap:wrap;\n",
              "      gap: 12px;\n",
              "    }\n",
              "\n",
              "    .colab-df-convert {\n",
              "      background-color: #E8F0FE;\n",
              "      border: none;\n",
              "      border-radius: 50%;\n",
              "      cursor: pointer;\n",
              "      display: none;\n",
              "      fill: #1967D2;\n",
              "      height: 32px;\n",
              "      padding: 0 0 0 0;\n",
              "      width: 32px;\n",
              "    }\n",
              "\n",
              "    .colab-df-convert:hover {\n",
              "      background-color: #E2EBFA;\n",
              "      box-shadow: 0px 1px 2px rgba(60, 64, 67, 0.3), 0px 1px 3px 1px rgba(60, 64, 67, 0.15);\n",
              "      fill: #174EA6;\n",
              "    }\n",
              "\n",
              "    [theme=dark] .colab-df-convert {\n",
              "      background-color: #3B4455;\n",
              "      fill: #D2E3FC;\n",
              "    }\n",
              "\n",
              "    [theme=dark] .colab-df-convert:hover {\n",
              "      background-color: #434B5C;\n",
              "      box-shadow: 0px 1px 3px 1px rgba(0, 0, 0, 0.15);\n",
              "      filter: drop-shadow(0px 1px 2px rgba(0, 0, 0, 0.3));\n",
              "      fill: #FFFFFF;\n",
              "    }\n",
              "  </style>\n",
              "\n",
              "      <script>\n",
              "        const buttonEl =\n",
              "          document.querySelector('#df-efe04fcf-602f-4b36-abff-ffaede9945a7 button.colab-df-convert');\n",
              "        buttonEl.style.display =\n",
              "          google.colab.kernel.accessAllowed ? 'block' : 'none';\n",
              "\n",
              "        async function convertToInteractive(key) {\n",
              "          const element = document.querySelector('#df-efe04fcf-602f-4b36-abff-ffaede9945a7');\n",
              "          const dataTable =\n",
              "            await google.colab.kernel.invokeFunction('convertToInteractive',\n",
              "                                                     [key], {});\n",
              "          if (!dataTable) return;\n",
              "\n",
              "          const docLinkHtml = 'Like what you see? Visit the ' +\n",
              "            '<a target=\"_blank\" href=https://colab.research.google.com/notebooks/data_table.ipynb>data table notebook</a>'\n",
              "            + ' to learn more about interactive tables.';\n",
              "          element.innerHTML = '';\n",
              "          dataTable['output_type'] = 'display_data';\n",
              "          await google.colab.output.renderOutput(dataTable, element);\n",
              "          const docLink = document.createElement('div');\n",
              "          docLink.innerHTML = docLinkHtml;\n",
              "          element.appendChild(docLink);\n",
              "        }\n",
              "      </script>\n",
              "    </div>\n",
              "  </div>\n",
              "  "
            ],
            "text/plain": [
              "         Order_ID       Product_ID  Qty                        combined\n",
              "0  CA-2014-100090  FUR-TA-10003715    3  CA-2014-100090_FUR-TA-10003715\n",
              "1  CA-2014-100090  OFF-BI-10001597    6  CA-2014-100090_OFF-BI-10001597\n",
              "2  CA-2014-100293  OFF-PA-10000176    6  CA-2014-100293_OFF-PA-10000176\n",
              "3  CA-2014-100328  OFF-BI-10000343    1  CA-2014-100328_OFF-BI-10000343\n",
              "4  CA-2014-100363  OFF-FA-10000611    2  CA-2014-100363_OFF-FA-10000611"
            ]
          },
          "metadata": {},
          "execution_count": 7
        }
      ]
    },
    {
      "cell_type": "markdown",
      "source": [
        "1. **How to identify the Records (Order ID + Product ID combination) present in data1 but missing in data**\n",
        "\n",
        "    ***(Specify the number of records missing in your answer*)**"
      ],
      "metadata": {
        "id": "Ruv1xJqZUT60"
      }
    },
    {
      "cell_type": "code",
      "source": [
        "#appling set difference set(data1)-set(data2) to get data which is in data 1 but not in data 2\n",
        "#a contains the data which is only in data 1\n",
        "a = df1[df1.combined.isin(df2.combined) == False]"
      ],
      "metadata": {
        "id": "tuYYyIN_U788"
      },
      "execution_count": 8,
      "outputs": []
    },
    {
      "cell_type": "code",
      "source": [
        "#printing 'a'\n",
        "print(a)"
      ],
      "metadata": {
        "colab": {
          "base_uri": "https://localhost:8080/"
        },
        "id": "THJQbQV-T8Ex",
        "outputId": "324d7002-94dd-41ba-cdd0-ff6c84577e41"
      },
      "execution_count": 9,
      "outputs": [
        {
          "output_type": "stream",
          "name": "stdout",
          "text": [
            "            Order_ID       Product_ID  Qty                        combined\n",
            "0     CA-2014-100006  TEC-PH-10002075    3  CA-2014-100006_TEC-PH-10002075\n",
            "10    CA-2014-100678  OFF-EN-10000056    3  CA-2014-100678_OFF-EN-10000056\n",
            "19    CA-2014-100895  OFF-AR-10004511    2  CA-2014-100895_OFF-AR-10004511\n",
            "35    CA-2014-101560  OFF-BI-10000309    3  CA-2014-101560_OFF-BI-10000309\n",
            "61    CA-2014-102673  OFF-LA-10001771   12  CA-2014-102673_OFF-LA-10001771\n",
            "...              ...              ...  ...                             ...\n",
            "9390  US-2017-160836  OFF-AP-10001626    2  US-2017-160836_OFF-AP-10001626\n",
            "9403  US-2017-162558  FUR-FU-10002364    2  US-2017-162558_FUR-FU-10002364\n",
            "9420  US-2017-163657  OFF-BI-10000138    5  US-2017-163657_OFF-BI-10000138\n",
            "9427  US-2017-164056  FUR-TA-10001307    5  US-2017-164056_FUR-TA-10001307\n",
            "9435  US-2017-165456  FUR-CH-10003981    6  US-2017-165456_FUR-CH-10003981\n",
            "\n",
            "[507 rows x 4 columns]\n"
          ]
        }
      ]
    },
    {
      "cell_type": "code",
      "source": [
        "#printing number of records which is in data 1 but not in data 2\n",
        "print(a.shape[0])"
      ],
      "metadata": {
        "colab": {
          "base_uri": "https://localhost:8080/"
        },
        "id": "db6qzvimVxcg",
        "outputId": "9251494d-99d2-4396-fbd1-6995600901d5"
      },
      "execution_count": 10,
      "outputs": [
        {
          "output_type": "stream",
          "name": "stdout",
          "text": [
            "507\n"
          ]
        }
      ]
    },
    {
      "cell_type": "markdown",
      "source": [
        "2. **How to identify the Records (Order ID + Product ID combination) present in data2 but missing in data1**\n",
        "\n",
        "  ***(Specify the number of records missing in your answer)***"
      ],
      "metadata": {
        "id": "iQ6yc_s1XQVf"
      }
    },
    {
      "cell_type": "code",
      "source": [
        "#appling set difference set(data2)-set(data1) to get data which is in data 2 but not in data 1\n",
        "#b contains the data which is only in data 2\n",
        "b = df2[df2.combined.isin(df1.combined) == False]"
      ],
      "metadata": {
        "id": "jsEB890DXkuh"
      },
      "execution_count": 11,
      "outputs": []
    },
    {
      "cell_type": "code",
      "source": [
        "#printing 'b'\n",
        "print(b)"
      ],
      "metadata": {
        "colab": {
          "base_uri": "https://localhost:8080/"
        },
        "id": "YFndIADrYDbH",
        "outputId": "554008a3-dbc8-4c06-be1b-1866801d9be0"
      },
      "execution_count": 12,
      "outputs": [
        {
          "output_type": "stream",
          "name": "stdout",
          "text": [
            "            Order_ID       Product_ID  Qty                        combined\n",
            "11    CA-2014-100706  TEC-AC-10001314    2  CA-2014-100706_TEC-AC-10001314\n",
            "14    CA-2014-100762  OFF-PA-10001815    3  CA-2014-100762_OFF-PA-10001815\n",
            "30    CA-2014-101427  OFF-AR-10002257    3  CA-2014-101427_OFF-AR-10002257\n",
            "56    CA-2014-102652  FUR-FU-10001918    7  CA-2014-102652_FUR-FU-10001918\n",
            "63    CA-2014-102869  OFF-PA-10000788    3  CA-2014-102869_OFF-PA-10000788\n",
            "...              ...              ...  ...                             ...\n",
            "9428  US-2017-165344  OFF-BI-10003196   10  US-2017-165344_OFF-BI-10003196\n",
            "9433  US-2017-165358  TEC-CO-10001943    5  US-2017-165358_TEC-CO-10001943\n",
            "9455  US-2017-167920  OFF-AP-10000159    5  US-2017-167920_OFF-AP-10000159\n",
            "9471  US-2017-169502  OFF-AP-10001947    5  US-2017-169502_OFF-AP-10001947\n",
            "9473  US-2017-169551  FUR-BO-10001519    3  US-2017-169551_FUR-BO-10001519\n",
            "\n",
            "[508 rows x 4 columns]\n"
          ]
        }
      ]
    },
    {
      "cell_type": "code",
      "source": [
        "#printing number of records which is in data 2 but not in data 1\n",
        "print(b.shape[0])"
      ],
      "metadata": {
        "colab": {
          "base_uri": "https://localhost:8080/"
        },
        "id": "k-kue_nTYOfL",
        "outputId": "5c0fef67-d266-493c-96f1-d7fad0101a9d"
      },
      "execution_count": 13,
      "outputs": [
        {
          "output_type": "stream",
          "name": "stdout",
          "text": [
            "508\n"
          ]
        }
      ]
    },
    {
      "cell_type": "markdown",
      "source": [
        "3. **Find the Sum of the total Qty of Records missing in data1 but present in data2** "
      ],
      "metadata": {
        "id": "HDShgUSGYizH"
      }
    },
    {
      "cell_type": "code",
      "source": [
        "#since 'b' dataframe gives the number of records present in data2 but not in data 1\n",
        "# sum of Quantities of 'b' dataframe \n",
        "print(b['Qty'].sum())"
      ],
      "metadata": {
        "colab": {
          "base_uri": "https://localhost:8080/"
        },
        "id": "Wf1E5LpMYqMr",
        "outputId": "f4105627-5356-47aa-ec41-37c2c58f9c38"
      },
      "execution_count": 14,
      "outputs": [
        {
          "output_type": "stream",
          "name": "stdout",
          "text": [
            "1956\n"
          ]
        }
      ]
    },
    {
      "cell_type": "markdown",
      "source": [
        "4. **Find the total number of unique records (Order ID  Product ID combination) present in the combined dataset of data1 and data2**"
      ],
      "metadata": {
        "id": "A5yNFxRjZVUo"
      }
    },
    {
      "cell_type": "code",
      "source": [
        "# total number of unique records will get from sum of Set(data 1)-set(data 2) and Set(data 2)-set(data 1)\n",
        "# and intersection of set(data1)-set(data2)\n",
        "# so, appending dataframes 'a' and 'b' will gives the result\n",
        "append_ab = pd.concat([a, b])"
      ],
      "metadata": {
        "id": "cK5SfF2aZiM9"
      },
      "execution_count": 15,
      "outputs": []
    },
    {
      "cell_type": "code",
      "source": [
        "#checking new appended dataframes 'append_ab'\n",
        "print(append_ab)"
      ],
      "metadata": {
        "colab": {
          "base_uri": "https://localhost:8080/"
        },
        "id": "mnbZLL3JaQCt",
        "outputId": "321097dd-fa7a-46b5-d45a-3bf3dee7b153"
      },
      "execution_count": 16,
      "outputs": [
        {
          "output_type": "stream",
          "name": "stdout",
          "text": [
            "            Order_ID       Product_ID  Qty                        combined\n",
            "0     CA-2014-100006  TEC-PH-10002075    3  CA-2014-100006_TEC-PH-10002075\n",
            "10    CA-2014-100678  OFF-EN-10000056    3  CA-2014-100678_OFF-EN-10000056\n",
            "19    CA-2014-100895  OFF-AR-10004511    2  CA-2014-100895_OFF-AR-10004511\n",
            "35    CA-2014-101560  OFF-BI-10000309    3  CA-2014-101560_OFF-BI-10000309\n",
            "61    CA-2014-102673  OFF-LA-10001771   12  CA-2014-102673_OFF-LA-10001771\n",
            "...              ...              ...  ...                             ...\n",
            "9428  US-2017-165344  OFF-BI-10003196   10  US-2017-165344_OFF-BI-10003196\n",
            "9433  US-2017-165358  TEC-CO-10001943    5  US-2017-165358_TEC-CO-10001943\n",
            "9455  US-2017-167920  OFF-AP-10000159    5  US-2017-167920_OFF-AP-10000159\n",
            "9471  US-2017-169502  OFF-AP-10001947    5  US-2017-169502_OFF-AP-10001947\n",
            "9473  US-2017-169551  FUR-BO-10001519    3  US-2017-169551_FUR-BO-10001519\n",
            "\n",
            "[1015 rows x 4 columns]\n"
          ]
        }
      ]
    },
    {
      "cell_type": "code",
      "source": [
        "#finding intersection of data 1 and data2\n",
        "int_df = df1.merge(df2)"
      ],
      "metadata": {
        "id": "FqPNYn12ccN1"
      },
      "execution_count": 22,
      "outputs": []
    },
    {
      "cell_type": "code",
      "source": [
        "#printing 'int_df'\n",
        "print(int_df)"
      ],
      "metadata": {
        "colab": {
          "base_uri": "https://localhost:8080/"
        },
        "id": "-B0X0fLidZdI",
        "outputId": "6c329098-1c79-4bfd-cd7f-6c8d8b266e7d"
      },
      "execution_count": 23,
      "outputs": [
        {
          "output_type": "stream",
          "name": "stdout",
          "text": [
            "            Order_ID       Product_ID  Qty                        combined\n",
            "0     CA-2014-100090  FUR-TA-10003715    3  CA-2014-100090_FUR-TA-10003715\n",
            "1     CA-2014-100090  OFF-BI-10001597    6  CA-2014-100090_OFF-BI-10001597\n",
            "2     CA-2014-100293  OFF-PA-10000176    6  CA-2014-100293_OFF-PA-10000176\n",
            "3     CA-2014-100328  OFF-BI-10000343    1  CA-2014-100328_OFF-BI-10000343\n",
            "4     CA-2014-100363  OFF-FA-10000611    2  CA-2014-100363_OFF-FA-10000611\n",
            "...              ...              ...  ...                             ...\n",
            "8966  US-2017-169551  OFF-PA-10004100    3  US-2017-169551_OFF-PA-10004100\n",
            "8967  US-2017-169551  OFF-ST-10004835    3  US-2017-169551_OFF-ST-10004835\n",
            "8968  US-2017-169551  TEC-AC-10002018    3  US-2017-169551_TEC-AC-10002018\n",
            "8969  US-2017-169551  TEC-AC-10003033    2  US-2017-169551_TEC-AC-10003033\n",
            "8970  US-2017-169551  TEC-PH-10001363    2  US-2017-169551_TEC-PH-10001363\n",
            "\n",
            "[8971 rows x 4 columns]\n"
          ]
        }
      ]
    },
    {
      "cell_type": "code",
      "source": [
        "# and, appending dataframes 'int_df' and 'append_ab' will gives the result\n",
        "unq_df = pd.concat([int_df, append_ab])"
      ],
      "metadata": {
        "id": "koPuqfTNdtVF"
      },
      "execution_count": 24,
      "outputs": []
    },
    {
      "cell_type": "code",
      "source": [
        "#printing 'unq_df'\n",
        "print(unq_df)"
      ],
      "metadata": {
        "colab": {
          "base_uri": "https://localhost:8080/"
        },
        "id": "L68809rIeAXn",
        "outputId": "7844d2c5-df07-43fc-ca45-7d1cf973960e"
      },
      "execution_count": 25,
      "outputs": [
        {
          "output_type": "stream",
          "name": "stdout",
          "text": [
            "            Order_ID       Product_ID  Qty                        combined\n",
            "0     CA-2014-100090  FUR-TA-10003715    3  CA-2014-100090_FUR-TA-10003715\n",
            "1     CA-2014-100090  OFF-BI-10001597    6  CA-2014-100090_OFF-BI-10001597\n",
            "2     CA-2014-100293  OFF-PA-10000176    6  CA-2014-100293_OFF-PA-10000176\n",
            "3     CA-2014-100328  OFF-BI-10000343    1  CA-2014-100328_OFF-BI-10000343\n",
            "4     CA-2014-100363  OFF-FA-10000611    2  CA-2014-100363_OFF-FA-10000611\n",
            "...              ...              ...  ...                             ...\n",
            "9428  US-2017-165344  OFF-BI-10003196   10  US-2017-165344_OFF-BI-10003196\n",
            "9433  US-2017-165358  TEC-CO-10001943    5  US-2017-165358_TEC-CO-10001943\n",
            "9455  US-2017-167920  OFF-AP-10000159    5  US-2017-167920_OFF-AP-10000159\n",
            "9471  US-2017-169502  OFF-AP-10001947    5  US-2017-169502_OFF-AP-10001947\n",
            "9473  US-2017-169551  FUR-BO-10001519    3  US-2017-169551_FUR-BO-10001519\n",
            "\n",
            "[9986 rows x 4 columns]\n"
          ]
        }
      ]
    },
    {
      "cell_type": "code",
      "source": [
        "# finding number of unique records in df1 and df2\n",
        "print(unq_df.shape[0])"
      ],
      "metadata": {
        "colab": {
          "base_uri": "https://localhost:8080/"
        },
        "id": "1jEd8IbbaeyW",
        "outputId": "0c5fc87b-7f6d-436d-9a88-de0c5560ab04"
      },
      "execution_count": 29,
      "outputs": [
        {
          "output_type": "stream",
          "name": "stdout",
          "text": [
            "9986\n"
          ]
        }
      ]
    }
  ]
}